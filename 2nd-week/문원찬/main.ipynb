{
  "cells": [
    {
      "cell_type": "markdown",
      "metadata": {
        "id": "XJy06XX7B_AH"
      },
      "source": [
        "# 2차시\n",
        "## 영화리뷰 감성분석 모델 만들기 (With Logistic Regression)"
      ]
    },
    {
      "cell_type": "code",
      "execution_count": 34,
      "metadata": {
        "id": "TwfWGoHuB_AI"
      },
      "outputs": [],
      "source": [
        "import urllib\n",
        "import pandas as pd\n",
        "import numpy as np\n",
        "import re\n",
        "from sklearn.feature_extraction.text import CountVectorizer\n",
        "from sklearn.linear_model import LogisticRegression\n",
        "from sklearn.metrics import accuracy_score\n",
        "\n",
        "from tqdm import tqdm\n",
        "tqdm.pandas()"
      ]
    },
    {
      "cell_type": "markdown",
      "metadata": {
        "id": "gpAPE5BiB_AI"
      },
      "source": [
        "### 데이터 불러오기"
      ]
    },
    {
      "cell_type": "code",
      "execution_count": 35,
      "metadata": {
        "id": "hCirE5bzB_AI",
        "outputId": "720cf532-d42c-4961-f277-20390d9b880d"
      },
      "outputs": [
        {
          "data": {
            "text/plain": [
              "('ratings_test.txt', <http.client.HTTPMessage at 0x321d10cd0>)"
            ]
          },
          "execution_count": 35,
          "metadata": {},
          "output_type": "execute_result"
        }
      ],
      "source": [
        "# URL로부터 데이터 불러오기\n",
        "urllib.request.urlretrieve(\"https://raw.githubusercontent.com/e9t/nsmc/master/ratings_train.txt\",\n",
        "                            filename=\"ratings_train.txt\")\n",
        "urllib.request.urlretrieve(\"https://raw.githubusercontent.com/e9t/nsmc/master/ratings_test.txt\",\n",
        "                            filename=\"ratings_test.txt\")"
      ]
    },
    {
      "cell_type": "code",
      "execution_count": 36,
      "metadata": {
        "id": "wswI05KSB_AI"
      },
      "outputs": [],
      "source": [
        "# pandas로 txt 데이터 불러오기\n",
        "train_data = pd.read_table('ratings_train.txt')\n",
        "test_data = pd.read_table('ratings_test.txt')"
      ]
    },
    {
      "cell_type": "markdown",
      "metadata": {
        "id": "xndQr_3xB_AJ"
      },
      "source": [
        "### 데이터 전처리"
      ]
    },
    {
      "cell_type": "code",
      "execution_count": 37,
      "metadata": {
        "id": "yfo3Ts7dB_AJ",
        "outputId": "29f90ddc-3c98-4e4f-812d-cdcc417ec942"
      },
      "outputs": [
        {
          "data": {
            "text/html": [
              "<div>\n",
              "<style scoped>\n",
              "    .dataframe tbody tr th:only-of-type {\n",
              "        vertical-align: middle;\n",
              "    }\n",
              "\n",
              "    .dataframe tbody tr th {\n",
              "        vertical-align: top;\n",
              "    }\n",
              "\n",
              "    .dataframe thead th {\n",
              "        text-align: right;\n",
              "    }\n",
              "</style>\n",
              "<table border=\"1\" class=\"dataframe\">\n",
              "  <thead>\n",
              "    <tr style=\"text-align: right;\">\n",
              "      <th></th>\n",
              "      <th>id</th>\n",
              "      <th>document</th>\n",
              "      <th>label</th>\n",
              "    </tr>\n",
              "  </thead>\n",
              "  <tbody>\n",
              "    <tr>\n",
              "      <th>0</th>\n",
              "      <td>9976970</td>\n",
              "      <td>아 더빙.. 진짜 짜증나네요 목소리</td>\n",
              "      <td>0</td>\n",
              "    </tr>\n",
              "    <tr>\n",
              "      <th>1</th>\n",
              "      <td>3819312</td>\n",
              "      <td>흠...포스터보고 초딩영화줄....오버연기조차 가볍지 않구나</td>\n",
              "      <td>1</td>\n",
              "    </tr>\n",
              "    <tr>\n",
              "      <th>2</th>\n",
              "      <td>10265843</td>\n",
              "      <td>너무재밓었다그래서보는것을추천한다</td>\n",
              "      <td>0</td>\n",
              "    </tr>\n",
              "    <tr>\n",
              "      <th>3</th>\n",
              "      <td>9045019</td>\n",
              "      <td>교도소 이야기구먼 ..솔직히 재미는 없다..평점 조정</td>\n",
              "      <td>0</td>\n",
              "    </tr>\n",
              "    <tr>\n",
              "      <th>4</th>\n",
              "      <td>6483659</td>\n",
              "      <td>사이몬페그의 익살스런 연기가 돋보였던 영화!스파이더맨에서 늙어보이기만 했던 커스틴 ...</td>\n",
              "      <td>1</td>\n",
              "    </tr>\n",
              "  </tbody>\n",
              "</table>\n",
              "</div>"
            ],
            "text/plain": [
              "         id                                           document  label\n",
              "0   9976970                                아 더빙.. 진짜 짜증나네요 목소리      0\n",
              "1   3819312                  흠...포스터보고 초딩영화줄....오버연기조차 가볍지 않구나      1\n",
              "2  10265843                                  너무재밓었다그래서보는것을추천한다      0\n",
              "3   9045019                      교도소 이야기구먼 ..솔직히 재미는 없다..평점 조정      0\n",
              "4   6483659  사이몬페그의 익살스런 연기가 돋보였던 영화!스파이더맨에서 늙어보이기만 했던 커스틴 ...      1"
            ]
          },
          "execution_count": 37,
          "metadata": {},
          "output_type": "execute_result"
        }
      ],
      "source": [
        "train_data.head()"
      ]
    },
    {
      "cell_type": "code",
      "execution_count": 38,
      "metadata": {
        "id": "3p8Dwb1bB_AJ",
        "outputId": "4d5a4cfc-8f23-4c65-ba9d-58fa08633a6a"
      },
      "outputs": [
        {
          "data": {
            "text/plain": [
              "array([0, 1])"
            ]
          },
          "execution_count": 38,
          "metadata": {},
          "output_type": "execute_result"
        }
      ],
      "source": [
        "train_data[\"label\"].unique()\n",
        "# 0이 부정, 1이 긍정"
      ]
    },
    {
      "cell_type": "code",
      "execution_count": 39,
      "metadata": {
        "id": "599tXm3zB_AJ",
        "outputId": "30adeda2-1da6-4285-8254-e15f93667e02"
      },
      "outputs": [
        {
          "name": "stdout",
          "output_type": "stream",
          "text": [
            "<class 'pandas.core.frame.DataFrame'>\n",
            "RangeIndex: 150000 entries, 0 to 149999\n",
            "Data columns (total 3 columns):\n",
            " #   Column    Non-Null Count   Dtype \n",
            "---  ------    --------------   ----- \n",
            " 0   id        150000 non-null  int64 \n",
            " 1   document  149995 non-null  object\n",
            " 2   label     150000 non-null  int64 \n",
            "dtypes: int64(2), object(1)\n",
            "memory usage: 3.4+ MB\n"
          ]
        }
      ],
      "source": [
        "train_data.info()"
      ]
    },
    {
      "cell_type": "code",
      "execution_count": 40,
      "metadata": {
        "id": "m-JahUzCB_AJ"
      },
      "outputs": [],
      "source": [
        "# 정규 표현식 사용해 document를 한글과 공백만 남김\n",
        "def clean_str(text):\n",
        "    text = str(text)\n",
        "    pattern = '([ㄱ-ㅎㅏ-ㅣ]+)'  # 한글 자음, 모음 제거\n",
        "    text = re.sub(pattern=pattern, repl='', string=text)\n",
        "\n",
        "    text = re.sub(r\"[^ㄱ-ㅎㅏ-ㅣ가-힣 ]\",\"\", text) # 한글만 포함\n",
        "\n",
        "    # 공백이면 nan 치환\n",
        "    if re.match(r'^\\s*$', str(text)):\n",
        "        return np.nan\n",
        "\n",
        "    return text\n",
        "\n",
        "train_data['document'] = train_data['document'].apply(clean_str)"
      ]
    },
    {
      "cell_type": "code",
      "execution_count": 41,
      "metadata": {
        "id": "PXh53y53B_AJ",
        "outputId": "65eff23f-97ea-4c78-8399-dcd524307462"
      },
      "outputs": [
        {
          "data": {
            "text/plain": [
              "143166    남자주인공의 연기아쉽지만 못 봐줄정도는 아니라서 재밌게봤음 영상도 예쁘고 내용도 좋고\n",
              "129910                       광주 감성팔이로 돈이나 읃어먹으려고 하는거 한심하다\n",
              "50680                                 레지던트 이블  끝나지 않냐  전쟁\n",
              "81105                                                  재미\n",
              "48205                                          카핑 베토벤 아류작\n",
              "Name: document, dtype: object"
            ]
          },
          "execution_count": 41,
          "metadata": {},
          "output_type": "execute_result"
        }
      ],
      "source": [
        "train_data['document'].sample(5)"
      ]
    },
    {
      "cell_type": "code",
      "execution_count": 42,
      "metadata": {
        "id": "jDVLDjYbB_AJ",
        "outputId": "fa9ccab9-87ac-43f5-aeb3-ae3f7ae644f0"
      },
      "outputs": [
        {
          "name": "stdout",
          "output_type": "stream",
          "text": [
            "id             0\n",
            "document    1615\n",
            "label          0\n",
            "dtype: int64\n",
            "<class 'pandas.core.frame.DataFrame'>\n",
            "Index: 148385 entries, 0 to 149999\n",
            "Data columns (total 3 columns):\n",
            " #   Column    Non-Null Count   Dtype \n",
            "---  ------    --------------   ----- \n",
            " 0   id        148385 non-null  int64 \n",
            " 1   document  148385 non-null  object\n",
            " 2   label     148385 non-null  int64 \n",
            "dtypes: int64(2), object(1)\n",
            "memory usage: 4.5+ MB\n"
          ]
        },
        {
          "name": "stderr",
          "output_type": "stream",
          "text": [
            "/Users/mun-wonchan/opt/anaconda3/envs/recsys/lib/python3.11/site-packages/numpy/core/fromnumeric.py:84: FutureWarning: The behavior of DataFrame.sum with axis=None is deprecated, in a future version this will reduce over both axes and return a scalar. To retain the old behavior, pass axis=0 (or do not pass axis)\n",
            "  return reduction(axis=axis, out=out, **passkwargs)\n"
          ]
        }
      ],
      "source": [
        "# Null 제거\n",
        "print(np.sum(train_data.isna()))\n",
        "train_data = train_data.dropna()\n",
        "train_data.info()"
      ]
    },
    {
      "cell_type": "code",
      "execution_count": 43,
      "metadata": {
        "id": "I_y3UnbLB_AJ",
        "outputId": "32c82e41-021a-4679-c861-dfdc4752636c"
      },
      "outputs": [
        {
          "name": "stdout",
          "output_type": "stream",
          "text": [
            "label\n",
            "0    74397\n",
            "1    73988\n",
            "dtype: int64\n"
          ]
        },
        {
          "data": {
            "text/plain": [
              "<Axes: xlabel='label'>"
            ]
          },
          "execution_count": 43,
          "metadata": {},
          "output_type": "execute_result"
        },
        {
          "data": {
            "image/png": "[encoded data removed]",
            "text/plain": [
              "<Figure size 640x480 with 1 Axes>"
            ]
          },
          "metadata": {},
          "output_type": "display_data"
        }
      ],
      "source": [
        "# 0, 1 비율 체크\n",
        "print(train_data.groupby('label').size())\n",
        "train_data['label'].value_counts().plot(kind = 'bar')"
      ]
    },
    {
      "cell_type": "code",
      "execution_count": 44,
      "metadata": {
        "id": "wje9YViyB_AJ",
        "outputId": "ad725ecd-013e-4d3e-86f2-24743f9b8a65"
      },
      "outputs": [
        {
          "name": "stderr",
          "output_type": "stream",
          "text": [
            "100%|██████████| 148385/148385 [04:14<00:00, 583.42it/s]\n"
          ]
        }
      ],
      "source": [
        "# 불용어 제거\n",
        "from konlpy.tag import Okt\n",
        "\n",
        "def remove_stopwords(text):\n",
        "    stopwords = ['의','가','이','은','들','는','좀','잘','걍','과','도','를','으로','자','에','와','한','하다']\n",
        "    okt = Okt()\n",
        "    tokens = okt.morphs(str(text))  # 형태소 분석\n",
        "    tokens = [word for word in tokens if word not in stopwords]  # 불용어 제거\n",
        "    return ' '.join(tokens)\n",
        "\n",
        "# train_data['cleaned_document'] = train_data['document'].apply(remove_stopwords)\n",
        "train_data['cleaned_document'] = train_data['document'].progress_apply(remove_stopwords)"
      ]
    },
    {
      "cell_type": "code",
      "execution_count": 45,
      "metadata": {
        "id": "0Eu2N8dhB_AJ",
        "outputId": "3aa39408-471e-4f75-da3b-c9747c3f375d"
      },
      "outputs": [
        {
          "data": {
            "text/html": [
              "<div>\n",
              "<style scoped>\n",
              "    .dataframe tbody tr th:only-of-type {\n",
              "        vertical-align: middle;\n",
              "    }\n",
              "\n",
              "    .dataframe tbody tr th {\n",
              "        vertical-align: top;\n",
              "    }\n",
              "\n",
              "    .dataframe thead th {\n",
              "        text-align: right;\n",
              "    }\n",
              "</style>\n",
              "<table border=\"1\" class=\"dataframe\">\n",
              "  <thead>\n",
              "    <tr style=\"text-align: right;\">\n",
              "      <th></th>\n",
              "      <th>id</th>\n",
              "      <th>document</th>\n",
              "      <th>label</th>\n",
              "      <th>cleaned_document</th>\n",
              "    </tr>\n",
              "  </thead>\n",
              "  <tbody>\n",
              "    <tr>\n",
              "      <th>108551</th>\n",
              "      <td>7745788</td>\n",
              "      <td>걍 멍함코미디</td>\n",
              "      <td>0</td>\n",
              "      <td>멍함 코미디</td>\n",
              "    </tr>\n",
              "    <tr>\n",
              "      <th>101232</th>\n",
              "      <td>8554558</td>\n",
              "      <td>진짜 리암리슨 믿고 봤는데 보면서 멘붕한영화 기억을 잃었으니까 내가 죽일려 했던 놈...</td>\n",
              "      <td>0</td>\n",
              "      <td>진짜 리암 리슨 믿고 봤는데 보면서 멘붕 영화 기억 을 잃었으니까 내 죽일려 했던 ...</td>\n",
              "    </tr>\n",
              "    <tr>\n",
              "      <th>145888</th>\n",
              "      <td>6727198</td>\n",
              "      <td>마음을 건드리게 하는 그리고 생각하지 못한 스토리에 대한 마무리도 좋았던</td>\n",
              "      <td>1</td>\n",
              "      <td>마음 을 건드리게 하는 그리고 생각 하지 못 스토리 대한 마무리 좋았던</td>\n",
              "    </tr>\n",
              "    <tr>\n",
              "      <th>113211</th>\n",
              "      <td>9559022</td>\n",
              "      <td>고맙습니다 이런 명작을 성인이 되서 다시 보게 되니 정말 감회가 새롭네요 저도 모...</td>\n",
              "      <td>1</td>\n",
              "      <td>고맙습니다 이런 명작 을 성인 되서 다시 보게 되니 정말 감회 새롭네요 저 모르게 ...</td>\n",
              "    </tr>\n",
              "    <tr>\n",
              "      <th>146583</th>\n",
              "      <td>2889962</td>\n",
              "      <td>년대 느와르액션을 아직도 고집하는 홍콩영화오버액션의 진수다</td>\n",
              "      <td>0</td>\n",
              "      <td>년대 느와르 액션 을 아직도 고집 하는 홍콩영화 오버액션 진수 다</td>\n",
              "    </tr>\n",
              "  </tbody>\n",
              "</table>\n",
              "</div>"
            ],
            "text/plain": [
              "             id                                           document  label  \\\n",
              "108551  7745788                                            걍 멍함코미디      0   \n",
              "101232  8554558  진짜 리암리슨 믿고 봤는데 보면서 멘붕한영화 기억을 잃었으니까 내가 죽일려 했던 놈...      0   \n",
              "145888  6727198           마음을 건드리게 하는 그리고 생각하지 못한 스토리에 대한 마무리도 좋았던      1   \n",
              "113211  9559022   고맙습니다 이런 명작을 성인이 되서 다시 보게 되니 정말 감회가 새롭네요 저도 모...      1   \n",
              "146583  2889962                   년대 느와르액션을 아직도 고집하는 홍콩영화오버액션의 진수다      0   \n",
              "\n",
              "                                         cleaned_document  \n",
              "108551                                             멍함 코미디  \n",
              "101232  진짜 리암 리슨 믿고 봤는데 보면서 멘붕 영화 기억 을 잃었으니까 내 죽일려 했던 ...  \n",
              "145888            마음 을 건드리게 하는 그리고 생각 하지 못 스토리 대한 마무리 좋았던  \n",
              "113211  고맙습니다 이런 명작 을 성인 되서 다시 보게 되니 정말 감회 새롭네요 저 모르게 ...  \n",
              "146583               년대 느와르 액션 을 아직도 고집 하는 홍콩영화 오버액션 진수 다  "
            ]
          },
          "execution_count": 45,
          "metadata": {},
          "output_type": "execute_result"
        }
      ],
      "source": [
        "train_data.sample(5)"
      ]
    },
    {
      "cell_type": "code",
      "execution_count": 46,
      "metadata": {
        "id": "zWQMDLlYB_AK"
      },
      "outputs": [],
      "source": [
        "# 벡터화\n",
        "tf_vectorizer = CountVectorizer()\n",
        "tf_train_features = tf_vectorizer.fit_transform(train_data[\"cleaned_document\"])"
      ]
    },
    {
      "cell_type": "markdown",
      "metadata": {
        "id": "6sZbKp3cB_AK"
      },
      "source": [
        "### 로지스틱 회귀 학습"
      ]
    },
    {
      "cell_type": "code",
      "execution_count": 47,
      "metadata": {
        "id": "lPXD6RTwB_AK",
        "outputId": "e3e2bce0-3c05-435a-a35d-35532c9ed9d8"
      },
      "outputs": [
        {
          "data": {
            "text/html": [
              "<style>#sk-container-id-2 {\n",
              "  /* Definition of color scheme common for light and dark mode */\n",
              "  --sklearn-color-text: black;\n",
              "  --sklearn-color-line: gray;\n",
              "  /* Definition of color scheme for unfitted estimators */\n",
              "  --sklearn-color-unfitted-level-0: #fff5e6;\n",
              "  --sklearn-color-unfitted-level-1: #f6e4d2;\n",
              "  --sklearn-color-unfitted-level-2: #ffe0b3;\n",
              "  --sklearn-color-unfitted-level-3: chocolate;\n",
              "  /* Definition of color scheme for fitted estimators */\n",
              "  --sklearn-color-fitted-level-0: #f0f8ff;\n",
              "  --sklearn-color-fitted-level-1: #d4ebff;\n",
              "  --sklearn-color-fitted-level-2: #b3dbfd;\n",
              "  --sklearn-color-fitted-level-3: cornflowerblue;\n",
              "\n",
              "  /* Specific color for light theme */\n",
              "  --sklearn-color-text-on-default-background: var(--sg-text-color, var(--theme-code-foreground, var(--jp-content-font-color1, black)));\n",
              "  --sklearn-color-background: var(--sg-background-color, var(--theme-background, var(--jp-layout-color0, white)));\n",
              "  --sklearn-color-border-box: var(--sg-text-color, var(--theme-code-foreground, var(--jp-content-font-color1, black)));\n",
              "  --sklearn-color-icon: #696969;\n",
              "\n",
              "  @media (prefers-color-scheme: dark) {\n",
              "    /* Redefinition of color scheme for dark theme */\n",
              "    --sklearn-color-text-on-default-background: var(--sg-text-color, var(--theme-code-foreground, var(--jp-content-font-color1, white)));\n",
              "    --sklearn-color-background: var(--sg-background-color, var(--theme-background, var(--jp-layout-color0, #111)));\n",
              "    --sklearn-color-border-box: var(--sg-text-color, var(--theme-code-foreground, var(--jp-content-font-color1, white)));\n",
              "    --sklearn-color-icon: #878787;\n",
              "  }\n",
              "}\n",
              "\n",
              "#sk-container-id-2 {\n",
              "  color: var(--sklearn-color-text);\n",
              "}\n",
              "\n",
              "#sk-container-id-2 pre {\n",
              "  padding: 0;\n",
              "}\n",
              "\n",
              "#sk-container-id-2 input.sk-hidden--visually {\n",
              "  border: 0;\n",
              "  clip: rect(1px 1px 1px 1px);\n",
              "  clip: rect(1px, 1px, 1px, 1px);\n",
              "  height: 1px;\n",
              "  margin: -1px;\n",
              "  overflow: hidden;\n",
              "  padding: 0;\n",
              "  position: absolute;\n",
              "  width: 1px;\n",
              "}\n",
              "\n",
              "#sk-container-id-2 div.sk-dashed-wrapped {\n",
              "  border: 1px dashed var(--sklearn-color-line);\n",
              "  margin: 0 0.4em 0.5em 0.4em;\n",
              "  box-sizing: border-box;\n",
              "  padding-bottom: 0.4em;\n",
              "  background-color: var(--sklearn-color-background);\n",
              "}\n",
              "\n",
              "#sk-container-id-2 div.sk-container {\n",
              "  /* jupyter's `normalize.less` sets `[hidden] { display: none; }`\n",
              "     but bootstrap.min.css set `[hidden] { display: none !important; }`\n",
              "     so we also need the `!important` here to be able to override the\n",
              "     default hidden behavior on the sphinx rendered scikit-learn.org.\n",
              "     See: https://github.com/scikit-learn/scikit-learn/issues/21755 */\n",
              "  display: inline-block !important;\n",
              "  position: relative;\n",
              "}\n",
              "\n",
              "#sk-container-id-2 div.sk-text-repr-fallback {\n",
              "  display: none;\n",
              "}\n",
              "\n",
              "div.sk-parallel-item,\n",
              "div.sk-serial,\n",
              "div.sk-item {\n",
              "  /* draw centered vertical line to link estimators */\n",
              "  background-image: linear-gradient(var(--sklearn-color-text-on-default-background), var(--sklearn-color-text-on-default-background));\n",
              "  background-size: 2px 100%;\n",
              "  background-repeat: no-repeat;\n",
              "  background-position: center center;\n",
              "}\n",
              "\n",
              "/* Parallel-specific style estimator block */\n",
              "\n",
              "#sk-container-id-2 div.sk-parallel-item::after {\n",
              "  content: \"\";\n",
              "  width: 100%;\n",
              "  border-bottom: 2px solid var(--sklearn-color-text-on-default-background);\n",
              "  flex-grow: 1;\n",
              "}\n",
              "\n",
              "#sk-container-id-2 div.sk-parallel {\n",
              "  display: flex;\n",
              "  align-items: stretch;\n",
              "  justify-content: center;\n",
              "  background-color: var(--sklearn-color-background);\n",
              "  position: relative;\n",
              "}\n",
              "\n",
              "#sk-container-id-2 div.sk-parallel-item {\n",
              "  display: flex;\n",
              "  flex-direction: column;\n",
              "}\n",
              "\n",
              "#sk-container-id-2 div.sk-parallel-item:first-child::after {\n",
              "  align-self: flex-end;\n",
              "  width: 50%;\n",
              "}\n",
              "\n",
              "#sk-container-id-2 div.sk-parallel-item:last-child::after {\n",
              "  align-self: flex-start;\n",
              "  width: 50%;\n",
              "}\n",
              "\n",
              "#sk-container-id-2 div.sk-parallel-item:only-child::after {\n",
              "  width: 0;\n",
              "}\n",
              "\n",
              "/* Serial-specific style estimator block */\n",
              "\n",
              "#sk-container-id-2 div.sk-serial {\n",
              "  display: flex;\n",
              "  flex-direction: column;\n",
              "  align-items: center;\n",
              "  background-color: var(--sklearn-color-background);\n",
              "  padding-right: 1em;\n",
              "  padding-left: 1em;\n",
              "}\n",
              "\n",
              "\n",
              "/* Toggleable style: style used for estimator/Pipeline/ColumnTransformer box that is\n",
              "clickable and can be expanded/collapsed.\n",
              "- Pipeline and ColumnTransformer use this feature and define the default style\n",
              "- Estimators will overwrite some part of the style using the `sk-estimator` class\n",
              "*/\n",
              "\n",
              "/* Pipeline and ColumnTransformer style (default) */\n",
              "\n",
              "#sk-container-id-2 div.sk-toggleable {\n",
              "  /* Default theme specific background. It is overwritten whether we have a\n",
              "  specific estimator or a Pipeline/ColumnTransformer */\n",
              "  background-color: var(--sklearn-color-background);\n",
              "}\n",
              "\n",
              "/* Toggleable label */\n",
              "#sk-container-id-2 label.sk-toggleable__label {\n",
              "  cursor: pointer;\n",
              "  display: block;\n",
              "  width: 100%;\n",
              "  margin-bottom: 0;\n",
              "  padding: 0.5em;\n",
              "  box-sizing: border-box;\n",
              "  text-align: center;\n",
              "}\n",
              "\n",
              "#sk-container-id-2 label.sk-toggleable__label-arrow:before {\n",
              "  /* Arrow on the left of the label */\n",
              "  content: \"▸\";\n",
              "  float: left;\n",
              "  margin-right: 0.25em;\n",
              "  color: var(--sklearn-color-icon);\n",
              "}\n",
              "\n",
              "#sk-container-id-2 label.sk-toggleable__label-arrow:hover:before {\n",
              "  color: var(--sklearn-color-text);\n",
              "}\n",
              "\n",
              "/* Toggleable content - dropdown */\n",
              "\n",
              "#sk-container-id-2 div.sk-toggleable__content {\n",
              "  max-height: 0;\n",
              "  max-width: 0;\n",
              "  overflow: hidden;\n",
              "  text-align: left;\n",
              "  /* unfitted */\n",
              "  background-color: var(--sklearn-color-unfitted-level-0);\n",
              "}\n",
              "\n",
              "#sk-container-id-2 div.sk-toggleable__content.fitted {\n",
              "  /* fitted */\n",
              "  background-color: var(--sklearn-color-fitted-level-0);\n",
              "}\n",
              "\n",
              "#sk-container-id-2 div.sk-toggleable__content pre {\n",
              "  margin: 0.2em;\n",
              "  border-radius: 0.25em;\n",
              "  color: var(--sklearn-color-text);\n",
              "  /* unfitted */\n",
              "  background-color: var(--sklearn-color-unfitted-level-0);\n",
              "}\n",
              "\n",
              "#sk-container-id-2 div.sk-toggleable__content.fitted pre {\n",
              "  /* unfitted */\n",
              "  background-color: var(--sklearn-color-fitted-level-0);\n",
              "}\n",
              "\n",
              "#sk-container-id-2 input.sk-toggleable__control:checked~div.sk-toggleable__content {\n",
              "  /* Expand drop-down */\n",
              "  max-height: 200px;\n",
              "  max-width: 100%;\n",
              "  overflow: auto;\n",
              "}\n",
              "\n",
              "#sk-container-id-2 input.sk-toggleable__control:checked~label.sk-toggleable__label-arrow:before {\n",
              "  content: \"▾\";\n",
              "}\n",
              "\n",
              "/* Pipeline/ColumnTransformer-specific style */\n",
              "\n",
              "#sk-container-id-2 div.sk-label input.sk-toggleable__control:checked~label.sk-toggleable__label {\n",
              "  color: var(--sklearn-color-text);\n",
              "  background-color: var(--sklearn-color-unfitted-level-2);\n",
              "}\n",
              "\n",
              "#sk-container-id-2 div.sk-label.fitted input.sk-toggleable__control:checked~label.sk-toggleable__label {\n",
              "  background-color: var(--sklearn-color-fitted-level-2);\n",
              "}\n",
              "\n",
              "/* Estimator-specific style */\n",
              "\n",
              "/* Colorize estimator box */\n",
              "#sk-container-id-2 div.sk-estimator input.sk-toggleable__control:checked~label.sk-toggleable__label {\n",
              "  /* unfitted */\n",
              "  background-color: var(--sklearn-color-unfitted-level-2);\n",
              "}\n",
              "\n",
              "#sk-container-id-2 div.sk-estimator.fitted input.sk-toggleable__control:checked~label.sk-toggleable__label {\n",
              "  /* fitted */\n",
              "  background-color: var(--sklearn-color-fitted-level-2);\n",
              "}\n",
              "\n",
              "#sk-container-id-2 div.sk-label label.sk-toggleable__label,\n",
              "#sk-container-id-2 div.sk-label label {\n",
              "  /* The background is the default theme color */\n",
              "  color: var(--sklearn-color-text-on-default-background);\n",
              "}\n",
              "\n",
              "/* On hover, darken the color of the background */\n",
              "#sk-container-id-2 div.sk-label:hover label.sk-toggleable__label {\n",
              "  color: var(--sklearn-color-text);\n",
              "  background-color: var(--sklearn-color-unfitted-level-2);\n",
              "}\n",
              "\n",
              "/* Label box, darken color on hover, fitted */\n",
              "#sk-container-id-2 div.sk-label.fitted:hover label.sk-toggleable__label.fitted {\n",
              "  color: var(--sklearn-color-text);\n",
              "  background-color: var(--sklearn-color-fitted-level-2);\n",
              "}\n",
              "\n",
              "/* Estimator label */\n",
              "\n",
              "#sk-container-id-2 div.sk-label label {\n",
              "  font-family: monospace;\n",
              "  font-weight: bold;\n",
              "  display: inline-block;\n",
              "  line-height: 1.2em;\n",
              "}\n",
              "\n",
              "#sk-container-id-2 div.sk-label-container {\n",
              "  text-align: center;\n",
              "}\n",
              "\n",
              "/* Estimator-specific */\n",
              "#sk-container-id-2 div.sk-estimator {\n",
              "  font-family: monospace;\n",
              "  border: 1px dotted var(--sklearn-color-border-box);\n",
              "  border-radius: 0.25em;\n",
              "  box-sizing: border-box;\n",
              "  margin-bottom: 0.5em;\n",
              "  /* unfitted */\n",
              "  background-color: var(--sklearn-color-unfitted-level-0);\n",
              "}\n",
              "\n",
              "#sk-container-id-2 div.sk-estimator.fitted {\n",
              "  /* fitted */\n",
              "  background-color: var(--sklearn-color-fitted-level-0);\n",
              "}\n",
              "\n",
              "/* on hover */\n",
              "#sk-container-id-2 div.sk-estimator:hover {\n",
              "  /* unfitted */\n",
              "  background-color: var(--sklearn-color-unfitted-level-2);\n",
              "}\n",
              "\n",
              "#sk-container-id-2 div.sk-estimator.fitted:hover {\n",
              "  /* fitted */\n",
              "  background-color: var(--sklearn-color-fitted-level-2);\n",
              "}\n",
              "\n",
              "/* Specification for estimator info (e.g. \"i\" and \"?\") */\n",
              "\n",
              "/* Common style for \"i\" and \"?\" */\n",
              "\n",
              ".sk-estimator-doc-link,\n",
              "a:link.sk-estimator-doc-link,\n",
              "a:visited.sk-estimator-doc-link {\n",
              "  float: right;\n",
              "  font-size: smaller;\n",
              "  line-height: 1em;\n",
              "  font-family: monospace;\n",
              "  background-color: var(--sklearn-color-background);\n",
              "  border-radius: 1em;\n",
              "  height: 1em;\n",
              "  width: 1em;\n",
              "  text-decoration: none !important;\n",
              "  margin-left: 1ex;\n",
              "  /* unfitted */\n",
              "  border: var(--sklearn-color-unfitted-level-1) 1pt solid;\n",
              "  color: var(--sklearn-color-unfitted-level-1);\n",
              "}\n",
              "\n",
              ".sk-estimator-doc-link.fitted,\n",
              "a:link.sk-estimator-doc-link.fitted,\n",
              "a:visited.sk-estimator-doc-link.fitted {\n",
              "  /* fitted */\n",
              "  border: var(--sklearn-color-fitted-level-1) 1pt solid;\n",
              "  color: var(--sklearn-color-fitted-level-1);\n",
              "}\n",
              "\n",
              "/* On hover */\n",
              "div.sk-estimator:hover .sk-estimator-doc-link:hover,\n",
              ".sk-estimator-doc-link:hover,\n",
              "div.sk-label-container:hover .sk-estimator-doc-link:hover,\n",
              ".sk-estimator-doc-link:hover {\n",
              "  /* unfitted */\n",
              "  background-color: var(--sklearn-color-unfitted-level-3);\n",
              "  color: var(--sklearn-color-background);\n",
              "  text-decoration: none;\n",
              "}\n",
              "\n",
              "div.sk-estimator.fitted:hover .sk-estimator-doc-link.fitted:hover,\n",
              ".sk-estimator-doc-link.fitted:hover,\n",
              "div.sk-label-container:hover .sk-estimator-doc-link.fitted:hover,\n",
              ".sk-estimator-doc-link.fitted:hover {\n",
              "  /* fitted */\n",
              "  background-color: var(--sklearn-color-fitted-level-3);\n",
              "  color: var(--sklearn-color-background);\n",
              "  text-decoration: none;\n",
              "}\n",
              "\n",
              "/* Span, style for the box shown on hovering the info icon */\n",
              ".sk-estimator-doc-link span {\n",
              "  display: none;\n",
              "  z-index: 9999;\n",
              "  position: relative;\n",
              "  font-weight: normal;\n",
              "  right: .2ex;\n",
              "  padding: .5ex;\n",
              "  margin: .5ex;\n",
              "  width: min-content;\n",
              "  min-width: 20ex;\n",
              "  max-width: 50ex;\n",
              "  color: var(--sklearn-color-text);\n",
              "  box-shadow: 2pt 2pt 4pt #999;\n",
              "  /* unfitted */\n",
              "  background: var(--sklearn-color-unfitted-level-0);\n",
              "  border: .5pt solid var(--sklearn-color-unfitted-level-3);\n",
              "}\n",
              "\n",
              ".sk-estimator-doc-link.fitted span {\n",
              "  /* fitted */\n",
              "  background: var(--sklearn-color-fitted-level-0);\n",
              "  border: var(--sklearn-color-fitted-level-3);\n",
              "}\n",
              "\n",
              ".sk-estimator-doc-link:hover span {\n",
              "  display: block;\n",
              "}\n",
              "\n",
              "/* \"?\"-specific style due to the `<a>` HTML tag */\n",
              "\n",
              "#sk-container-id-2 a.estimator_doc_link {\n",
              "  float: right;\n",
              "  font-size: 1rem;\n",
              "  line-height: 1em;\n",
              "  font-family: monospace;\n",
              "  background-color: var(--sklearn-color-background);\n",
              "  border-radius: 1rem;\n",
              "  height: 1rem;\n",
              "  width: 1rem;\n",
              "  text-decoration: none;\n",
              "  /* unfitted */\n",
              "  color: var(--sklearn-color-unfitted-level-1);\n",
              "  border: var(--sklearn-color-unfitted-level-1) 1pt solid;\n",
              "}\n",
              "\n",
              "#sk-container-id-2 a.estimator_doc_link.fitted {\n",
              "  /* fitted */\n",
              "  border: var(--sklearn-color-fitted-level-1) 1pt solid;\n",
              "  color: var(--sklearn-color-fitted-level-1);\n",
              "}\n",
              "\n",
              "/* On hover */\n",
              "#sk-container-id-2 a.estimator_doc_link:hover {\n",
              "  /* unfitted */\n",
              "  background-color: var(--sklearn-color-unfitted-level-3);\n",
              "  color: var(--sklearn-color-background);\n",
              "  text-decoration: none;\n",
              "}\n",
              "\n",
              "#sk-container-id-2 a.estimator_doc_link.fitted:hover {\n",
              "  /* fitted */\n",
              "  background-color: var(--sklearn-color-fitted-level-3);\n",
              "}\n",
              "</style><div id=\"sk-container-id-2\" class=\"sk-top-container\"><div class=\"sk-text-repr-fallback\"><pre>LogisticRegression(max_iter=1000)</pre><b>In a Jupyter environment, please rerun this cell to show the HTML representation or trust the notebook. <br />On GitHub, the HTML representation is unable to render, please try loading this page with nbviewer.org.</b></div><div class=\"sk-container\" hidden><div class=\"sk-item\"><div class=\"sk-estimator fitted sk-toggleable\"><input class=\"sk-toggleable__control sk-hidden--visually\" id=\"sk-estimator-id-2\" type=\"checkbox\" checked><label for=\"sk-estimator-id-2\" class=\"sk-toggleable__label fitted sk-toggleable__label-arrow fitted\">&nbsp;&nbsp;LogisticRegression<a class=\"sk-estimator-doc-link fitted\" rel=\"noreferrer\" target=\"_blank\" href=\"https://scikit-learn.org/1.5/modules/generated/sklearn.linear_model.LogisticRegression.html\">?<span>Documentation for LogisticRegression</span></a><span class=\"sk-estimator-doc-link fitted\">i<span>Fitted</span></span></label><div class=\"sk-toggleable__content fitted\"><pre>LogisticRegression(max_iter=1000)</pre></div> </div></div></div></div>"
            ],
            "text/plain": [
              "LogisticRegression(max_iter=1000)"
            ]
          },
          "execution_count": 47,
          "metadata": {},
          "output_type": "execute_result"
        }
      ],
      "source": [
        "lr_tf = LogisticRegression(max_iter=1000)\n",
        "lr_tf.fit(tf_train_features, train_data[\"label\"])"
      ]
    },
    {
      "cell_type": "code",
      "execution_count": 48,
      "metadata": {
        "id": "sWnLhXV0B_AK",
        "outputId": "a040e993-99ba-4c9a-b3d3-3afd7ce75255"
      },
      "outputs": [
        {
          "name": "stdout",
          "output_type": "stream",
          "text": [
            "Misclassified samples: 12897 out of 148385\n",
            "Accuracy: 0.91\n"
          ]
        }
      ],
      "source": [
        "# 학습 잘 됐는지 확인\n",
        "pred_labels = lr_tf.predict(tf_train_features)\n",
        "print('Misclassified samples: {} out of {}'.format((pred_labels != train_data[\"label\"]).sum(),len(train_data[\"label\"])))\n",
        "print('Accuracy: %.2f' % accuracy_score(train_data[\"label\"], pred_labels))"
      ]
    },
    {
      "cell_type": "code",
      "execution_count": 49,
      "metadata": {
        "id": "eS30QaZ5B_AK",
        "outputId": "99cb0713-fc7d-4e48-ff48-9f91e9d82f07"
      },
      "outputs": [],
      "source": [
        "# vocablist = tf_vectorizer.vocabulary_"
      ]
    },
    {
      "cell_type": "code",
      "execution_count": 50,
      "metadata": {
        "id": "tk5yzehPB_AK",
        "outputId": "5254eed0-c226-445a-de29-833b3ea10c3e"
      },
      "outputs": [],
      "source": [
        "# 계수 확인\n",
        "# coefficients = lr_tf.coef_.tolist()\n",
        "\n",
        "# # coefficient값이 큰 순으로 정렬 'reverse=True'\n",
        "# sorted_coefficients = sorted(enumerate(coefficients[0]), key=lambda x:x[1], reverse=True)\n",
        "\n",
        "# # 긍정 단어 상위 20개\n",
        "# for word, coef in sorted_coefficients[:20]:\n",
        "#     print('{0:} ({1:.3f})'.format(vocablist[word], coef))\n",
        "\n",
        "# # 부정 단어 상위 20개\n",
        "# for word, coef in sorted_coefficients[-20:]:\n",
        "#     print('{0:} ({1:.3f})'.format(vocablist[word], coef))"
      ]
    },
    {
      "cell_type": "markdown",
      "metadata": {
        "id": "cIFuTqcaB_AK"
      },
      "source": [
        "### 로지스틱 회귀 테스트"
      ]
    },
    {
      "cell_type": "code",
      "execution_count": 51,
      "metadata": {
        "id": "BtM7im2mB_AK"
      },
      "outputs": [],
      "source": [
        "# 정규 표현식 적용\n",
        "test_data['document'] = test_data['document'].apply(clean_str)"
      ]
    },
    {
      "cell_type": "code",
      "execution_count": 52,
      "metadata": {
        "id": "dMBEXMLDB_AK",
        "outputId": "19ede238-682a-45b3-8802-2b33c8bfdb40"
      },
      "outputs": [
        {
          "name": "stdout",
          "output_type": "stream",
          "text": [
            "id            0\n",
            "document    570\n",
            "label         0\n",
            "dtype: int64\n",
            "<class 'pandas.core.frame.DataFrame'>\n",
            "Index: 49430 entries, 0 to 49999\n",
            "Data columns (total 3 columns):\n",
            " #   Column    Non-Null Count  Dtype \n",
            "---  ------    --------------  ----- \n",
            " 0   id        49430 non-null  int64 \n",
            " 1   document  49430 non-null  object\n",
            " 2   label     49430 non-null  int64 \n",
            "dtypes: int64(2), object(1)\n",
            "memory usage: 1.5+ MB\n"
          ]
        },
        {
          "name": "stderr",
          "output_type": "stream",
          "text": [
            "/Users/mun-wonchan/opt/anaconda3/envs/recsys/lib/python3.11/site-packages/numpy/core/fromnumeric.py:84: FutureWarning: The behavior of DataFrame.sum with axis=None is deprecated, in a future version this will reduce over both axes and return a scalar. To retain the old behavior, pass axis=0 (or do not pass axis)\n",
            "  return reduction(axis=axis, out=out, **passkwargs)\n"
          ]
        }
      ],
      "source": [
        "# Null 제거\n",
        "print(np.sum(test_data.isna()))\n",
        "test_data = test_data.dropna()\n",
        "test_data.info()"
      ]
    },
    {
      "cell_type": "code",
      "execution_count": 53,
      "metadata": {
        "id": "GCpHGRU5B_AK",
        "outputId": "6884f2b7-fc2a-4ef6-ec59-23e6ee5f2a55"
      },
      "outputs": [
        {
          "name": "stderr",
          "output_type": "stream",
          "text": [
            "100%|██████████| 49430/49430 [01:15<00:00, 652.37it/s] \n"
          ]
        }
      ],
      "source": [
        "# 불요어 제거 및 벡터화\n",
        "test_data['cleaned_document'] = test_data['document'].progress_apply(remove_stopwords)\n",
        "tf_test_features = tf_vectorizer.transform(test_data['cleaned_document'])"
      ]
    },
    {
      "cell_type": "code",
      "execution_count": 54,
      "metadata": {
        "id": "rIXwVL7CB_AL",
        "outputId": "a69f89c2-cc68-4ddb-afed-5ea5f290a800"
      },
      "outputs": [
        {
          "name": "stdout",
          "output_type": "stream",
          "text": [
            "Misclassified samples: 8073 out of 49430\n",
            "Accuracy: 0.84\n"
          ]
        }
      ],
      "source": [
        "# 테스트\n",
        "pred_labels_test = lr_tf.predict(tf_test_features)\n",
        "print('Misclassified samples: {} out of {}'.format((pred_labels_test != test_data[\"label\"]).sum(),len(test_data[\"label\"])))\n",
        "print('Accuracy: %.2f' % accuracy_score(test_data[\"label\"], pred_labels_test))"
      ]
    },
    {
      "cell_type": "markdown",
      "metadata": {
        "id": "_1-1AimyB_AL"
      },
      "source": [
        "### 오분류 분석"
      ]
    },
    {
      "cell_type": "code",
      "execution_count": 55,
      "metadata": {
        "id": "e6jtLqxSB_AL"
      },
      "outputs": [],
      "source": [
        "misclassified = test_data[pred_labels_test != test_data[\"label\"]]"
      ]
    },
    {
      "cell_type": "code",
      "execution_count": 56,
      "metadata": {
        "id": "0_JL30FDB_AL",
        "outputId": "c221fbc5-533f-4dd3-d577-caa22b97fd78"
      },
      "outputs": [
        {
          "data": {
            "text/html": [
              "<div>\n",
              "<style scoped>\n",
              "    .dataframe tbody tr th:only-of-type {\n",
              "        vertical-align: middle;\n",
              "    }\n",
              "\n",
              "    .dataframe tbody tr th {\n",
              "        vertical-align: top;\n",
              "    }\n",
              "\n",
              "    .dataframe thead th {\n",
              "        text-align: right;\n",
              "    }\n",
              "</style>\n",
              "<table border=\"1\" class=\"dataframe\">\n",
              "  <thead>\n",
              "    <tr style=\"text-align: right;\">\n",
              "      <th></th>\n",
              "      <th>id</th>\n",
              "      <th>document</th>\n",
              "      <th>label</th>\n",
              "      <th>cleaned_document</th>\n",
              "    </tr>\n",
              "  </thead>\n",
              "  <tbody>\n",
              "    <tr>\n",
              "      <th>23495</th>\n",
              "      <td>7942638</td>\n",
              "      <td>이건 진짜 돼에에에에봑</td>\n",
              "      <td>1</td>\n",
              "      <td>이건 진짜 돼에에에에봑</td>\n",
              "    </tr>\n",
              "    <tr>\n",
              "      <th>32545</th>\n",
              "      <td>2599010</td>\n",
              "      <td>시궁창 냄새 가득한 기득권 권력유지의 작태</td>\n",
              "      <td>1</td>\n",
              "      <td>시궁창 냄새 가득한 기득권 권력 유지 작태</td>\n",
              "    </tr>\n",
              "    <tr>\n",
              "      <th>39295</th>\n",
              "      <td>9428050</td>\n",
              "      <td>안봐도 뻔하다 점 주고싶다</td>\n",
              "      <td>0</td>\n",
              "      <td>안 봐도 뻔하다 점 주고싶다</td>\n",
              "    </tr>\n",
              "    <tr>\n",
              "      <th>34041</th>\n",
              "      <td>5084469</td>\n",
              "      <td>헐  케로로 극장판중 제일 재밌없다</td>\n",
              "      <td>0</td>\n",
              "      <td>헐 케로로 극장판 중 제일 재밌 없다</td>\n",
              "    </tr>\n",
              "    <tr>\n",
              "      <th>7136</th>\n",
              "      <td>5323147</td>\n",
              "      <td>너무재밌는영화 꼭보세요</td>\n",
              "      <td>0</td>\n",
              "      <td>너무 재밌는 영화 꼭 보세요</td>\n",
              "    </tr>\n",
              "    <tr>\n",
              "      <th>3945</th>\n",
              "      <td>9814351</td>\n",
              "      <td>케이트 윈슬렛 몸 잘봤다</td>\n",
              "      <td>0</td>\n",
              "      <td>케이트 윈슬렛 몸 봤다</td>\n",
              "    </tr>\n",
              "    <tr>\n",
              "      <th>15926</th>\n",
              "      <td>3080376</td>\n",
              "      <td>재밋닼</td>\n",
              "      <td>1</td>\n",
              "      <td>재밋닼</td>\n",
              "    </tr>\n",
              "    <tr>\n",
              "      <th>35</th>\n",
              "      <td>1018831</td>\n",
              "      <td>은 못나올것 같다</td>\n",
              "      <td>0</td>\n",
              "      <td>못 나올것 같다</td>\n",
              "    </tr>\n",
              "    <tr>\n",
              "      <th>29348</th>\n",
              "      <td>3899978</td>\n",
              "      <td>와이어트 어프보다 모든 면에서 낫다는게 중평 감독의 연출력 입증</td>\n",
              "      <td>1</td>\n",
              "      <td>이어트 어프 보다 모든 면 에서 낫다는게 중평 감독 연출 력 입증</td>\n",
              "    </tr>\n",
              "    <tr>\n",
              "      <th>40330</th>\n",
              "      <td>9283030</td>\n",
              "      <td>지금 보면 좀 억지 신파극 같은 스토리 주인공들이 너무 바보 멍청이 같음 상황판단만...</td>\n",
              "      <td>0</td>\n",
              "      <td>지금 보면 억지 신파극 같은 스토리 주인공 너무 바보 멍청이 같음 상황 판단 만 했...</td>\n",
              "    </tr>\n",
              "  </tbody>\n",
              "</table>\n",
              "</div>"
            ],
            "text/plain": [
              "            id                                           document  label  \\\n",
              "23495  7942638                                      이건 진짜 돼에에에에봑       1   \n",
              "32545  2599010                            시궁창 냄새 가득한 기득권 권력유지의 작태      1   \n",
              "39295  9428050                                     안봐도 뻔하다 점 주고싶다      0   \n",
              "34041  5084469                                헐  케로로 극장판중 제일 재밌없다      0   \n",
              "7136   5323147                                       너무재밌는영화 꼭보세요      0   \n",
              "3945   9814351                                      케이트 윈슬렛 몸 잘봤다      0   \n",
              "15926  3080376                                                재밋닼      1   \n",
              "35     1018831                                          은 못나올것 같다      0   \n",
              "29348  3899978                와이어트 어프보다 모든 면에서 낫다는게 중평 감독의 연출력 입증      1   \n",
              "40330  9283030  지금 보면 좀 억지 신파극 같은 스토리 주인공들이 너무 바보 멍청이 같음 상황판단만...      0   \n",
              "\n",
              "                                        cleaned_document  \n",
              "23495                                       이건 진짜 돼에에에에봑  \n",
              "32545                            시궁창 냄새 가득한 기득권 권력 유지 작태  \n",
              "39295                                    안 봐도 뻔하다 점 주고싶다  \n",
              "34041                               헐 케로로 극장판 중 제일 재밌 없다  \n",
              "7136                                     너무 재밌는 영화 꼭 보세요  \n",
              "3945                                        케이트 윈슬렛 몸 봤다  \n",
              "15926                                                재밋닼  \n",
              "35                                              못 나올것 같다  \n",
              "29348               이어트 어프 보다 모든 면 에서 낫다는게 중평 감독 연출 력 입증  \n",
              "40330  지금 보면 억지 신파극 같은 스토리 주인공 너무 바보 멍청이 같음 상황 판단 만 했...  "
            ]
          },
          "execution_count": 56,
          "metadata": {},
          "output_type": "execute_result"
        }
      ],
      "source": [
        "misclassified.sample(10)"
      ]
    },
    {
      "cell_type": "markdown",
      "metadata": {
        "id": "tsLubbIiB_AL"
      },
      "source": [
        "### 리뷰 예측해보기"
      ]
    },
    {
      "cell_type": "code",
      "execution_count": 57,
      "metadata": {
        "id": "UKKXQcXNB_AL"
      },
      "outputs": [],
      "source": [
        "def sentiment_predict(text):\n",
        "    text = clean_str(text)\n",
        "    text =  remove_stopwords(text)\n",
        "    print(text)\n",
        "    sample = []\n",
        "    sample.append(text)\n",
        "    tf_features = tf_vectorizer.transform(sample)\n",
        "    score = float(lr_tf.predict_proba(tf_features)[:, 1]) # 예측\n",
        "    if(score > 0.5):\n",
        "        print(\"{:.2f}% 확률로 긍정 리뷰입니다.\\n\".format(score * 100))\n",
        "    else:\n",
        "        print(\"{:.2f}% 확률로 부정 리뷰입니다.\\n\".format((1 - score) * 100))"
      ]
    },
    {
      "cell_type": "code",
      "execution_count": 58,
      "metadata": {
        "id": "G52sKxkBB_AL",
        "outputId": "58a21285-80b2-42eb-b810-d0125245d92e"
      },
      "outputs": [
        {
          "name": "stdout",
          "output_type": "stream",
          "text": [
            "영화 개꿀잼\n",
            "87.94% 확률로 긍정 리뷰입니다.\n",
            "\n"
          ]
        }
      ],
      "source": [
        "sentiment_predict('이 영화 개꿀잼 ㅋㅋㅋ')"
      ]
    },
    {
      "cell_type": "code",
      "execution_count": 59,
      "metadata": {
        "id": "8XamQ5aNB_AL",
        "outputId": "0466028b-d776-496c-b036-2da2124eaa0b"
      },
      "outputs": [
        {
          "name": "stdout",
          "output_type": "stream",
          "text": [
            "영화 핵 노잼\n",
            "95.43% 확률로 부정 리뷰입니다.\n",
            "\n"
          ]
        }
      ],
      "source": [
        "sentiment_predict('이 영화 핵노잼 ㅠㅠ')"
      ]
    },
    {
      "cell_type": "markdown",
      "metadata": {
        "id": "YsvsevwcB_AL"
      },
      "source": [
        "### 데드풀과 울버린 리뷰들에 적용"
      ]
    },
    {
      "cell_type": "code",
      "execution_count": 60,
      "metadata": {
        "id": "2ZxgmDJ_B_AL",
        "outputId": "36acc9e6-a320-4fcf-b9d5-b4d0f0cdf5da"
      },
      "outputs": [
        {
          "name": "stdout",
          "output_type": "stream",
          "text": [
            "반가운 히어로 많이 나와서 좋긴 했는데 솔직히 조금 지루했다\n",
            "86.12% 확률로 부정 리뷰입니다.\n",
            "\n"
          ]
        }
      ],
      "source": [
        "sentiment_predict('반가운 히어로들도 많이 나와서 좋긴했는데 솔직히 조금 지루했다')"
      ]
    },
    {
      "cell_type": "code",
      "execution_count": 61,
      "metadata": {
        "id": "U2cATjPVB_AP",
        "outputId": "4352affa-e85c-4322-a512-977735c32901"
      },
      "outputs": [
        {
          "name": "stdout",
          "output_type": "stream",
          "text": [
            "게 그동안 우리 기대했던 멀티버스\n",
            "72.33% 확률로 긍정 리뷰입니다.\n",
            "\n"
          ]
        }
      ],
      "source": [
        "sentiment_predict('이게 그동안 우리가 기대했던 멀티버스')"
      ]
    },
    {
      "cell_type": "code",
      "execution_count": 62,
      "metadata": {
        "id": "ZeHEZXIGB_AQ",
        "outputId": "22ae53ca-b195-40cd-fce8-b3c5c35c77b9"
      },
      "outputs": [
        {
          "name": "stdout",
          "output_type": "stream",
          "text": [
            "게 마블 신 이라고 너무 기대해서 그 런가 그냥 무난 급 영화 던데 그리고 영화 진입 장벽 너무 높음 프로 이해 하기 힘든 영화\n",
            "99.64% 확률로 부정 리뷰입니다.\n",
            "\n"
          ]
        }
      ],
      "source": [
        "sentiment_predict('이게 마블의 신이라고? 너무 기대해서 그런가 그냥 무난한 b급 영화던데.. 그리고 영화가 진입장벽이 너무 높음.. 100프로 이해하기 힘든 영화')"
      ]
    },
    {
      "cell_type": "code",
      "execution_count": 63,
      "metadata": {
        "id": "RIapX9caB_AQ",
        "outputId": "6d44be8b-90b1-416e-b5ab-47ab1e086bec"
      },
      "outputs": [
        {
          "name": "stdout",
          "output_type": "stream",
          "text": [
            "아이디어 하나 만으로 스릴러 만들면 이렇게 된다\n",
            "77.56% 확률로 부정 리뷰입니다.\n",
            "\n"
          ]
        }
      ],
      "source": [
        "sentiment_predict('아이디어 하나만으로 스릴러를 만들면 이렇게 된다.')"
      ]
    },
    {
      "cell_type": "markdown",
      "metadata": {},
      "source": [
        "### joblib으로 모델 저장 및 불러오기"
      ]
    },
    {
      "cell_type": "code",
      "execution_count": 64,
      "metadata": {},
      "outputs": [],
      "source": [
        "import joblib\n",
        "# 모델 저장\n",
        "joblib.dump(lr_tf, 'lr_movie_ratings.pkl')\n",
        "\n",
        "# 모델 불러오기\n",
        "loaded_model = joblib.load('lr_movie_ratings.pkl')"
      ]
    },
    {
      "cell_type": "code",
      "execution_count": 67,
      "metadata": {},
      "outputs": [],
      "source": [
        "def sentiment_predict_loaded_model(text):\n",
        "    text = clean_str(text)\n",
        "    text =  remove_stopwords(text)\n",
        "    print(text)\n",
        "    sample = []\n",
        "    sample.append(text)\n",
        "    tf_features = tf_vectorizer.transform(sample)\n",
        "    score = float(loaded_model.predict_proba(tf_features)[:, 1]) # 예측\n",
        "    if(score > 0.5):\n",
        "        print(\"{:.2f}% 확률로 긍정 리뷰입니다.\\n\".format(score * 100))\n",
        "    else:\n",
        "        print(\"{:.2f}% 확률로 부정 리뷰입니다.\\n\".format((1 - score) * 100))"
      ]
    },
    {
      "cell_type": "code",
      "execution_count": 69,
      "metadata": {},
      "outputs": [
        {
          "name": "stdout",
          "output_type": "stream",
          "text": [
            "반가운 히어로 많이 나와서 좋긴 했는데 솔직히 조금 지루했다\n",
            "86.12% 확률로 부정 리뷰입니다.\n",
            "\n"
          ]
        }
      ],
      "source": [
        "sentiment_predict_loaded_model('반가운 히어로들도 많이 나와서 좋긴했는데 솔직히 조금 지루했다')"
      ]
    },
    {
      "cell_type": "code",
      "execution_count": 66,
      "metadata": {},
      "outputs": [
        {
          "data": {
            "text/plain": [
              "0"
            ]
          },
          "execution_count": 66,
          "metadata": {},
          "output_type": "execute_result"
        }
      ],
      "source": [
        "import os; os.system('afplay /System/Library/Sounds/Submarine.aiff')"
      ]
    },
    {
      "cell_type": "markdown",
      "metadata": {},
      "source": [
        "# 참고 자료\n",
        "### [네이버 영화 리뷰 감성 분류하기](https://wikidocs.net/44249)\n",
        "### [영화리뷰 감성분석 (Sentiment Analysis)](https://yeong-jin-data-blog.tistory.com/entry/%EC%98%81%ED%99%94%EB%A6%AC%EB%B7%B0-%EA%B0%90%EC%84%B1%EB%B6%84%EC%84%9D-Sentiment-Analysis)\n",
        "### [아나콘다 환경에서 konlpy 사용시 jvm.dll 못찾는 오류](https://rural-mouse.tistory.com/5)\n",
        "### [Tensorflow LSTM 모델 (public score : 0.848)](https://dacon.io/competitions/official/235864/codeshare/4160)"
      ]
    },
    {
      "cell_type": "markdown",
      "metadata": {},
      "source": []
    }
  ],
  "metadata": {
    "colab": {
      "provenance": []
    },
    "kernelspec": {
      "display_name": "recsys",
      "language": "python",
      "name": "python3"
    },
    "language_info": {
      "codemirror_mode": {
        "name": "ipython",
        "version": 3
      },
      "file_extension": ".py",
      "mimetype": "text/x-python",
      "name": "python",
      "nbconvert_exporter": "python",
      "pygments_lexer": "ipython3",
      "version": "3.11.5"
    }
  },
  "nbformat": 4,
  "nbformat_minor": 0
}
